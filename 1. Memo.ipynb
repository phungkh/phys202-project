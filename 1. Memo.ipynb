{
 "cells": [
  {
   "cell_type": "markdown",
   "metadata": {},
   "source": [
    "Hi professor, \n",
    "\n",
    "In my directory, you may notice a lot of .png files. These are images of Schelling models that underwent different parameter changes. I decided to use only a couple for my presentation, the ones that I figured would've been more noteworthy and would have been better for contrast and to avoid redundancy. \n",
    "\n",
    "However, if you are interested in all the graph and the satisfaction values that I've recorded, here is how to interpret the file names:\n",
    "\n",
    "\"(ratio between the two agents)______(preference ratio)____(vacancy density)\"\n",
    "\n",
    "for the ratio between the two agents:\n",
    "- if 'even' then there are just as many 1's as there are 2's.\n",
    "- if 'odd' there are 3 times as many of one agent than there are for the other.\n",
    "\n",
    "\n",
    "for the preference ratio:\n",
    "- \"small\" represents a ratio of 2/8 of desired minimum # of like neighbors.\n",
    "- \"even\" or \"mid\" = 4/8\n",
    "- \"six\" = 6/8\n",
    "- \"seven\" = 7/8\n",
    "\n",
    "I've ran each different condition about 3-4 times, and each time the results were about the same and I believe my data are accurate representations of the given conditions."
   ]
  },
  {
   "cell_type": "markdown",
   "metadata": {},
   "source": [
    "P.S. My functions.py file is in the middle of the directory, between the .png files."
   ]
  },
  {
   "cell_type": "code",
   "execution_count": null,
   "metadata": {
    "collapsed": true
   },
   "outputs": [],
   "source": []
  }
 ],
 "metadata": {
  "kernelspec": {
   "display_name": "Python 3",
   "language": "python",
   "name": "python3"
  },
  "language_info": {
   "codemirror_mode": {
    "name": "ipython",
    "version": 3
   },
   "file_extension": ".py",
   "mimetype": "text/x-python",
   "name": "python",
   "nbconvert_exporter": "python",
   "pygments_lexer": "ipython3",
   "version": "3.4.0"
  }
 },
 "nbformat": 4,
 "nbformat_minor": 0
}
