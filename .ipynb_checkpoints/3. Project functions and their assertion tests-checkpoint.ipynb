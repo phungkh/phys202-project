{
 "cells": [
  {
   "cell_type": "code",
   "execution_count": 1,
   "metadata": {
    "collapsed": true
   },
   "outputs": [],
   "source": [
    "%matplotlib inline\n",
    "import matplotlib.pyplot as plt\n",
    "import numpy as np\n",
    "import math\n",
    "import time"
   ]
  },
  {
   "cell_type": "code",
   "execution_count": 2,
   "metadata": {
    "collapsed": true
   },
   "outputs": [],
   "source": [
    "from IPython.display import clear_output\n",
    "from IPython.display import Image\n",
    "from IPython.display import display\n",
    "from ipythonblocks import BlockGrid"
   ]
  },
  {
   "cell_type": "code",
   "execution_count": 3,
   "metadata": {
    "collapsed": true
   },
   "outputs": [],
   "source": [
    "def random_grid(N,x,y):\n",
    "    \"\"\"\n",
    "    \n",
    "    Parameters\n",
    "    ----------\n",
    "    N : Integer that determine size of square matrix.\n",
    "    x : Integer that determines desired numbers of 1's.\n",
    "    y : Integer that intermines desired numbers of 2's.\n",
    "        \n",
    "    Returns\n",
    "    -------\n",
    "    A: NxN square matrix with fixed numbers of 1's and 2's randomly distributed.\n",
    "       0's represents empty spaces.\n",
    "    \n",
    "    \"\"\"\n",
    "    A= np.zeros(N**2)                        \n",
    "    coords=np.random.permutation(N**2)       \n",
    "    A[coords[:x]]=1\n",
    "    A[coords[x:(x+y)]]=2\n",
    "    A=A.reshape((N,N))\n",
    "    print(A)\n",
    "    return A"
   ]
  },
  {
   "cell_type": "code",
   "execution_count": 4,
   "metadata": {
    "collapsed": false
   },
   "outputs": [
    {
     "name": "stdout",
     "output_type": "stream",
     "text": [
      "[[ 0.  0.  1.  0.  0.  0.  0.  1.  2.  2.]\n",
      " [ 2.  0.  0.  0.  1.  2.  0.  1.  1.  1.]\n",
      " [ 2.  0.  0.  1.  1.  0.  0.  0.  0.  0.]\n",
      " [ 0.  1.  0.  0.  0.  0.  2.  1.  0.  2.]\n",
      " [ 0.  0.  0.  0.  0.  2.  0.  0.  0.  2.]\n",
      " [ 1.  1.  0.  2.  1.  1.  1.  2.  1.  0.]\n",
      " [ 1.  0.  0.  0.  0.  0.  0.  0.  1.  0.]\n",
      " [ 0.  0.  1.  2.  0.  0.  1.  1.  1.  0.]\n",
      " [ 1.  0.  1.  1.  0.  0.  0.  2.  0.  2.]\n",
      " [ 0.  2.  1.  1.  1.  0.  1.  0.  1.  0.]]\n"
     ]
    }
   ],
   "source": [
    "A= random_grid(10,30,15)          #some assertion tests\n",
    "assert A.size==100"
   ]
  },
  {
   "cell_type": "code",
   "execution_count": 5,
   "metadata": {
    "collapsed": true
   },
   "outputs": [],
   "source": [
    "number_of_ones=0\n",
    "for i in range(10):\n",
    "    for j in range(10):\n",
    "        if A[i,j]==1:\n",
    "            number_of_ones+=1\n",
    "assert number_of_ones==30"
   ]
  },
  {
   "cell_type": "code",
   "execution_count": 6,
   "metadata": {
    "collapsed": true
   },
   "outputs": [],
   "source": [
    "number_of_twos=0\n",
    "for i in range(10):\n",
    "    for j in range(10):\n",
    "        if A[i,j]==2:\n",
    "            number_of_twos+=1\n",
    "assert number_of_twos==15"
   ]
  },
  {
   "cell_type": "code",
   "execution_count": 7,
   "metadata": {
    "collapsed": true
   },
   "outputs": [],
   "source": [
    "def locate_empty(A):\n",
    "    \"\"\"\n",
    "    \n",
    "    Parameters\n",
    "    ----------\n",
    "    A: Input matrix.\n",
    "        \n",
    "    Returns\n",
    "    -------\n",
    "    empty : list of coordinates (tuples!) corresponding to empty spaces within the input array.\n",
    "    \n",
    "    \"\"\"\n",
    "    N=A.shape[0]\n",
    "    empty=[]\n",
    "    for i in range(0,N):\n",
    "        for j in range(0,N):\n",
    "            if A[i,j]==0:\n",
    "                empty.append((i,j))\n",
    "            \n",
    "    return empty"
   ]
  },
  {
   "cell_type": "code",
   "execution_count": 8,
   "metadata": {
    "collapsed": true
   },
   "outputs": [],
   "source": [
    "example=np.zeros((5,5))  # assertion test for locate_empty\n",
    "example[(0,0)]=1\n",
    "example[(4,4)]=2\n",
    "assert len(locate_empty(example))==23 # there should be 23 zeros after I change 2 elements into non-zero integers"
   ]
  },
  {
   "cell_type": "code",
   "execution_count": 9,
   "metadata": {
    "collapsed": true
   },
   "outputs": [],
   "source": [
    "def get_neighbors(row,col,N):\n",
    "    \"\"\"\n",
    "    \n",
    "    Parameters\n",
    "    ----------\n",
    "    row : integer for desired row index\n",
    "    col : integer for desired column index\n",
    "    N : Integer for size of square matrix\n",
    "        \n",
    "    Returns\n",
    "    -------\n",
    "    List of tuples corresponding to the neighbors of the input index.\n",
    "    \n",
    "    \"\"\"\n",
    "    if row==0 and col ==0:               #Top left\n",
    "        return [(0,1),(1,1),(1,0)]\n",
    "    elif row ==0 and col ==N-1:          #Top right\n",
    "        return [(1,N-1),(1,N-2),(0,N-2)]\n",
    "    elif row==N-1 and col ==N-1:         #Bottom right\n",
    "        return [(N-2,N-1),(N-1,N-2),(N-2,N-2)]\n",
    "    elif row==N-1 and col==0:            #Bottom left\n",
    "        return[(N-2,0),(N-2,1),(N-1,1)]\n",
    "    elif row==0:                         #First row\n",
    "        return[(0,col+1),(1,col+1),(1,col),(1,col-1),(0,col-1)]\n",
    "    elif row==N-1:                       #Last row\n",
    "        return[(N-2,col),(N-2,col+1),(N-1,col+1),(N-1,col-1),(N-2,col-1)]\n",
    "    elif col==0:                         #First column\n",
    "        return[(row-1,col),(row-1,col+1),(row,col+1),(row+1,col+1),(row+1,col)]\n",
    "    elif col==N-1:                       #Last column\n",
    "        return[(row-1,col),(row+1,col),(row+1,col-1),(row,col-1),(row-1,col-1)]\n",
    "    else:                                #All other indices\n",
    "        return[(row-1,col),(row-1,col+1),(row,col+1),(row+1,col+1),(row+1,col),(row+1,col-1),(row,col-1),(row-1,col-1)]\n",
    "        \n",
    "    "
   ]
  },
  {
   "cell_type": "code",
   "execution_count": 10,
   "metadata": {
    "collapsed": true
   },
   "outputs": [],
   "source": [
    "N=4 # for a 4x4 matrix...\n",
    "assert get_neighbors(0,0,N)==[(0,1),(1,1),(1,0)] # testing top left corner\n",
    "assert get_neighbors(0,3,N)==[(1,3),(1,2),(0,2)] # testing top right corner\n",
    "assert get_neighbors(3,3,N)==[(2,3),(3,2),(2,2)] # testing bottom right corner\n",
    "assert get_neighbors(3,0,N)==[(2,0),(2,1),(3,1)] # testing bottom left corner\n",
    "assert get_neighbors(0,2,N)==[(0,3),(1,3),(1,2),(1,1),(0,1)] # testing top side\n",
    "assert get_neighbors(3,1,N)==[(2,1),(2,2),(3,2),(3,0),(2,0)] # testing bot side\n",
    "assert get_neighbors(1,0,N)==[(0,0),(0,1),(1,1),(2,1),(2,0)] # testing left side\n",
    "assert get_neighbors(2,3,N)==[(1,3),(3,3),(3,2),(2,2),(1,2)] # testing right side\n",
    "assert get_neighbors(1,1,N)==[(0,1),(0,2),(1,2),(2,2),(2,1),(2,0),(1,0),(0,0)] # testing inner"
   ]
  },
  {
   "cell_type": "code",
   "execution_count": 11,
   "metadata": {
    "collapsed": true
   },
   "outputs": [],
   "source": [
    "def how_satisfied(A):\n",
    "    \"\"\"\n",
    "    \n",
    "    Parameters\n",
    "    ----------\n",
    "    A : Input square matrix.\n",
    "        \n",
    "    Returns\n",
    "    -------\n",
    "    C : returns the satisfaction values of each element.\n",
    "    \"\"\"\n",
    "    C=np.empty((len(A),len(A)))             \n",
    "    for i in range(len(A)):\n",
    "        for j in range(len((A))):\n",
    "            if A[i,j]==1 or A[i,j]==2:           \n",
    "                B=get_neighbors(i,j,len(A))\n",
    "                count=0\n",
    "                for k in range(len(B)):\n",
    "                    if A[i,j]==A[B[k]] or A[B[k]]==0:\n",
    "                        count+=1\n",
    "                C[i,j]=(count/len(B))\n",
    "    return C\n",
    "                "
   ]
  },
  {
   "cell_type": "code",
   "execution_count": 12,
   "metadata": {
    "collapsed": true
   },
   "outputs": [],
   "source": [
    "dummy=np.zeros((4,4))                # ASSERTION TEST FOR how_satisfied\n",
    "dummy[2,0]=2                         # for some reason you have to run this twice to pass the assertion test.\n",
    "dummy[3,0]=1\n",
    "dummy[2,1]=1\n",
    "dummy[3,2]=1\n",
    "example = how_satisfied(dummy)\n",
    "assert example[2,0]==3/5             #testing each agent's satisfaction\n",
    "assert example[3,0]==2/3\n",
    "assert example[2,1]==7/8\n",
    "assert example[3,2]==8/8\n",
    "assert example[3,3]==0"
   ]
  },
  {
   "cell_type": "code",
   "execution_count": 13,
   "metadata": {
    "collapsed": true
   },
   "outputs": [],
   "source": [
    "def unsatisfied(A,B,P):                \n",
    "    \"\"\"\n",
    "    \n",
    "    Parameters\n",
    "    ----------\n",
    "    A : input matrix.\n",
    "    B : input matrix of the satisfaction values in matrix A.\n",
    "        \n",
    "    Returns\n",
    "    -------\n",
    "    C : list of tuples corresponding to the elements in A that are NOT satisfied with their current location.\n",
    "    \n",
    "    \"\"\"\n",
    "    C=[]\n",
    "    for i in range(len(B)):\n",
    "        for j in range(len(B)):\n",
    "            if A[i,j]==1 or A[i,j]==2:\n",
    "                if B[i,j] < P:\n",
    "                    C.append((i,j))        \n",
    "    return C"
   ]
  },
  {
   "cell_type": "code",
   "execution_count": 14,
   "metadata": {
    "collapsed": true
   },
   "outputs": [],
   "source": [
    "A=np.zeros((4,4))                # ASSERTION TEST FOR unsatisfied\n",
    "A[2,0]=2\n",
    "A[3,0]=1\n",
    "A[2,1]=1\n",
    "A[3,2]=1\n",
    "satisfaction=how_satisfied(A)\n",
    "example=unsatisfied(A,satisfaction,.7)    # setting tolerance level to .7\n",
    "example\n",
    "assert example==[(2,0),(3,0)]            # the two elements that should be unsatisfied should be (2,0) and (3,0)"
   ]
  },
  {
   "cell_type": "code",
   "execution_count": 15,
   "metadata": {
    "collapsed": true
   },
   "outputs": [],
   "source": [
    "def relocate(A,P):\n",
    "    \"\"\"\n",
    "    \n",
    "    Parameters\n",
    "    ----------\n",
    "    A : Input matrix.\n",
    "    P : Float preference ratio\n",
    "        \n",
    "    Returns\n",
    "    -------\n",
    "    A : Matrix A undergoes a single process of unsatisfied elements switching with randomly selected empty spaces.\n",
    "    \n",
    "    \"\"\"\n",
    "    N=A.shape[0]\n",
    "    B=how_satisfied(A)  \n",
    "    C=unsatisfied(A,B,P)  \n",
    "    D=locate_empty(A)   \n",
    "    \n",
    "    E= np.random.permutation(len(D))\n",
    "    F= np.random.permutation(len(C))\n",
    "    for i in range(min(len(C),len(D))):\n",
    "        source=C[F[i]]\n",
    "        target=D[E[i]]\n",
    "        A[source],A[target]=A[target],A[source]\n",
    "            \n",
    "    return A            \n",
    "    "
   ]
  },
  {
   "cell_type": "code",
   "execution_count": 16,
   "metadata": {
    "collapsed": true
   },
   "outputs": [],
   "source": [
    "def colored_grid_process(A,P): \n",
    "    \"\"\"\n",
    "    \n",
    "    Parameters\n",
    "    ----------\n",
    "    A : Input matrix.\n",
    "    P : Float preference ratio\n",
    "        \n",
    "    Returns\n",
    "    -------\n",
    "    A : Original Matrix with IPythonBlocks implemented.\n",
    "        Red corresponds to 1's.\n",
    "        Blue corresponds to 2's.\n",
    "        Black corresponds to empty spaces.\n",
    "    \n",
    "    \"\"\"\n",
    "    A= relocate(A,P)                      \n",
    "    N=A.shape[0]\n",
    "    grid= BlockGrid(N,N,block_size=10)    \n",
    "    for i in range(0,N):\n",
    "        for j in range(0,N):\n",
    "            if A[i,j]==1:\n",
    "                grid[i,j].red=200\n",
    "            if A[i,j]==2:\n",
    "                grid[i,j].blue=200\n",
    "            if A[i,j]==0:\n",
    "                grid[i,j].green=10\n",
    "                \n",
    "    return grid "
   ]
  },
  {
   "cell_type": "code",
   "execution_count": 17,
   "metadata": {
    "collapsed": true
   },
   "outputs": [],
   "source": [
    "def process(A,P,t):\n",
    "    \"\"\"\n",
    "    Parameters\n",
    "    ----------\n",
    "    A : Input Matrix\n",
    "    P : Float preference ratio\n",
    "    t : Integer number of steps (how many times we want the switching to happen)\n",
    "        \n",
    "    Returns\n",
    "    -------\n",
    "    A work of art.\n",
    "    Just kidding.\n",
    "    \n",
    "    Matrix A undergoing unsatisfied elements swapping t number of times.\n",
    "    Output is refreshed each iteration.\n",
    "    \n",
    "    \"\"\"\n",
    "    for i in range(t):\n",
    "        clear_output(True)\n",
    "        r=colored_grid_process(A,P)\n",
    "        display(r)\n",
    "        time.sleep(.00001)"
   ]
  },
  {
   "cell_type": "code",
   "execution_count": 18,
   "metadata": {
    "collapsed": true
   },
   "outputs": [],
   "source": [
    "def mean_sat(A):\n",
    "    \"\"\"\n",
    "    \n",
    "    Parameters\n",
    "    ----------\n",
    "    A : Input matrix.\n",
    "        \n",
    "    Returns\n",
    "    -------\n",
    "    Integer value corresponding to the overall average satisfaction of our matrix.\n",
    "    \n",
    "    \"\"\"\n",
    "    f=[]\n",
    "    for i in range(len(A)):\n",
    "        for j in range(len(A)):\n",
    "            if A[i,j]==0:\n",
    "                f.append((i,j))        \n",
    "    B=how_satisfied(A)                 \n",
    "    for i in range(len(f)):\n",
    "        B[f[i]]=np.nan                 #makes sure that 0's do not affect our mean\n",
    "    B=B[~np.isnan(B)]                  #http://stackoverflow.com/questions/11620914/removing-nan-values-from-an-array\n",
    "    return np.mean(B)"
   ]
  },
  {
   "cell_type": "code",
   "execution_count": 19,
   "metadata": {
    "collapsed": true
   },
   "outputs": [],
   "source": [
    "A=np.zeros((4,4))                # ASSERTION TEST FOR mean_sat\n",
    "A[2,0]=2                         \n",
    "A[3,0]=1\n",
    "A[2,1]=1\n",
    "A[3,2]=1\n",
    "assert np.allclose(mean_sat(A),((3/5 + 2/3 + 7/8 + 8/8)/4),atol=.1)==True"
   ]
  },
  {
   "cell_type": "code",
   "execution_count": 20,
   "metadata": {
    "collapsed": true
   },
   "outputs": [],
   "source": [
    "def plot(A,P,t):                         # Pretty much combination of all of my above functions\n",
    "    \"\"\"\n",
    "    \n",
    "    Parameters\n",
    "    ----------\n",
    "    A : Input matrix.\n",
    "    P : Float preference ratio\n",
    "    t : Integer number of iterations desired\n",
    "        \n",
    "    Returns\n",
    "    -------\n",
    "    A grid that changes over time as a result of unsatisfied elements switching places with empty spaces.\n",
    "    A plot that relates overall average satisfaction of grid with time.\n",
    "    \n",
    "    \"\"\"\n",
    "    ls=[]\n",
    "    iterations=np.linspace(1,t,t)\n",
    "    for i in range(len(iterations)):\n",
    "        process(A,P,1)\n",
    "        mean=mean_sat(A)\n",
    "        ls.append(mean)\n",
    "    plt.figure(figsize=(7,7))            # with the addition of an output of the satisfaction values over time\n",
    "    plt.plot(iterations,ls)\n",
    "    plt.xlabel('Number of Iterations')\n",
    "    plt.ylabel(' Satisfaction')\n",
    "    plt.title('Satisfaction Over Time')\n",
    "    plt.box(False)\n",
    "    print('Initial satisfaction: ',ls[0],           \n",
    "         'Final satisfaction: ',ls[-1])"
   ]
  },
  {
   "cell_type": "code",
   "execution_count": null,
   "metadata": {
    "collapsed": true
   },
   "outputs": [],
   "source": []
  }
 ],
 "metadata": {
  "kernelspec": {
   "display_name": "Python 3",
   "language": "python",
   "name": "python3"
  },
  "language_info": {
   "codemirror_mode": {
    "name": "ipython",
    "version": 3
   },
   "file_extension": ".py",
   "mimetype": "text/x-python",
   "name": "python",
   "nbconvert_exporter": "python",
   "pygments_lexer": "ipython3",
   "version": "3.4.0"
  }
 },
 "nbformat": 4,
 "nbformat_minor": 0
}
