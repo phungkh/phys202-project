{
 "cells": [
  {
   "cell_type": "markdown",
   "metadata": {},
   "source": [
    "**Summary of Project**\n",
    "\n",
    "I am replicating Schelling's model. My approach is to first create a function that will generate a specified nxn matrix with specified numbers of 1's and 2's each placed randomly on the matrix. After doing so, I will create a function 1 that will:\n",
    "\n",
    "-set some preference ratio **P**.\n",
    "- find the location of every empty space\n",
    "- create if statements for each index in my matrix to determine whether or not they are satisfied(depending on **P**) with their current location.\n",
    "- if the element is not satisfied, move it to an empty space.\n",
    "- put this function 1 inside function 2.\n",
    "\n",
    "Function 2, with the use of a for loop, will determine and display how many times function 1 is called and what its results are. I will run function 2 **t** times until all elements possible are satisfied.\n",
    "\n",
    "**Base Question**\n",
    "\n",
    "-Replicate Schelling's model. See how the distributions and clumps change over time. Verify that it agrees with the papers that over many many steps, both agents will be segregated from each other.\n",
    "\n",
    "**Two additional questions**\n",
    "\n",
    "What happens when I change the parameters? For example, increasing threshold percentage P, or increasing vacancy density?\n",
    "\n",
    "What happens when one population is much larger than the other, say 75/25?\n"
   ]
  },
  {
   "cell_type": "markdown",
   "metadata": {},
   "source": [
    "**Conclusion **(also stated at the end of presentation notebook):\n",
    "\n",
    "We can infer some correlations of how changing our parameters will affect our process:\n",
    "\n",
    "-Increasing preference ratio and vacancy density will lower the amount of iterations required to reach maximum satisfaction.\n",
    "\n",
    "-The change in satisfaction and its maximum is generally higher for high preference ratios. Except in the case of a ratio of 7/8 and low vacancy density, in which we saw that satifaction never reached a constant value (this is most likely due to our limited resources).\n",
    "\n",
    "-For an uneven ratio between agents, there is a special case in which for low vacancy densities, system will never reach its equilibrium."
   ]
  },
  {
   "cell_type": "code",
   "execution_count": null,
   "metadata": {
    "collapsed": true
   },
   "outputs": [],
   "source": []
  }
 ],
 "metadata": {
  "kernelspec": {
   "display_name": "Python 3",
   "language": "python",
   "name": "python3"
  },
  "language_info": {
   "codemirror_mode": {
    "name": "ipython",
    "version": 3
   },
   "file_extension": ".py",
   "mimetype": "text/x-python",
   "name": "python",
   "nbconvert_exporter": "python",
   "pygments_lexer": "ipython3",
   "version": "3.4.0"
  }
 },
 "nbformat": 4,
 "nbformat_minor": 0
}
